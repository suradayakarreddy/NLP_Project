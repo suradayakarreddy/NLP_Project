{
 "cells": [
  {
   "cell_type": "code",
   "execution_count": 1,
   "id": "48ce3ca4-bce2-4dd5-84e2-13ee132c55db",
   "metadata": {},
   "outputs": [],
   "source": [
    "import streamlit as st\n",
    "import joblib\n",
    "import string\n",
    "from nltk.corpus import stopwords"
   ]
  },
  {
   "cell_type": "code",
   "execution_count": 2,
   "id": "c0072873-7204-4b3b-a96f-39cfad74fdb6",
   "metadata": {},
   "outputs": [],
   "source": [
    "model = joblib.load(\"model.pkl\")\n",
    "# Load the saved CountVectorizer\n",
    "vectorizer = joblib.load(\"vectorizer.pkl\")\n"
   ]
  },
  {
   "cell_type": "code",
   "execution_count": 3,
   "id": "cc26f2d8-1ae8-45ae-bd3f-63b51dcf087f",
   "metadata": {},
   "outputs": [],
   "source": [
    "stop_words = set(stopwords.words(\"english\"))\n",
    "punctuation = string.punctuation\n"
   ]
  },
  {
   "cell_type": "code",
   "execution_count": 4,
   "id": "bd23a8b5-6ad7-4f90-a17e-d3e2f5c412b8",
   "metadata": {},
   "outputs": [
    {
     "name": "stderr",
     "output_type": "stream",
     "text": [
      "2025-07-25 15:30:53.339 \n",
      "  \u001b[33m\u001b[1mWarning:\u001b[0m to view this Streamlit app on a browser, run it with the following\n",
      "  command:\n",
      "\n",
      "    streamlit run C:\\Users\\Dayakar Reddy Sura\\anaconda3\\Lib\\site-packages\\ipykernel_launcher.py [ARGUMENTS]\n"
     ]
    },
    {
     "data": {
      "text/plain": [
       "DeltaGenerator()"
      ]
     },
     "execution_count": 4,
     "metadata": {},
     "output_type": "execute_result"
    }
   ],
   "source": [
    "def clean_text(text):\n",
    "    # Lowercase the text\n",
    "    text = text.lower()\n",
    "    # Remove punctuation\n",
    "    text = \"\".join([char for char in text if char not in punctuation])\n",
    "    # Remove stopwords\n",
    "    words = text.split()\n",
    "    words = [word for word in words if word not in stop_words]\n",
    "    return \" \".join(words)\n",
    "\n",
    "\n",
    "# Title of the app\n",
    "st.title(\"Fake News Classifier\")"
   ]
  },
  {
   "cell_type": "code",
   "execution_count": 5,
   "id": "f6981f83-8029-4089-8a45-14ddf68369dd",
   "metadata": {},
   "outputs": [
    {
     "name": "stderr",
     "output_type": "stream",
     "text": [
      "2025-07-25 15:30:53.377 `label` got an empty value. This is discouraged for accessibility reasons and may be disallowed in the future by raising an exception. Please provide a non-empty label and hide it with label_visibility if needed.\n"
     ]
    }
   ],
   "source": [
    "st.write(\"Enter news text below to classify:\")\n",
    "news_input = st.text_area(\"\")"
   ]
  },
  {
   "cell_type": "code",
   "execution_count": 6,
   "id": "083c539d-e7e8-431a-ac1b-30e834f7f79b",
   "metadata": {},
   "outputs": [],
   "source": [
    "if st.button(\"Classify\"):\n",
    "    if news_input:\n",
    "        cleaned_text = clean_text(news_input)\n",
    "        # Preprocess the input using the same vectorizer\n",
    "        input_vectorized = vectorizer.transform([cleaned_text])\n",
    "        # Make prediction\n",
    "        prediction = model.predict(input_vectorized)\n",
    "\n",
    "        # Display the result\n",
    "        st.write(\"The news is\", prediction[0])\n",
    "    else:\n",
    "        st.write(\"Please enter some news text.\")\n"
   ]
  },
  {
   "cell_type": "code",
   "execution_count": null,
   "id": "8bbdb94a-34c0-4e19-bd7b-4a92c1d01e0a",
   "metadata": {},
   "outputs": [],
   "source": []
  }
 ],
 "metadata": {
  "kernelspec": {
   "display_name": "Python 3 (ipykernel)",
   "language": "python",
   "name": "python3"
  },
  "language_info": {
   "codemirror_mode": {
    "name": "ipython",
    "version": 3
   },
   "file_extension": ".py",
   "mimetype": "text/x-python",
   "name": "python",
   "nbconvert_exporter": "python",
   "pygments_lexer": "ipython3",
   "version": "3.11.7"
  }
 },
 "nbformat": 4,
 "nbformat_minor": 5
}
